{
 "cells": [
  {
   "cell_type": "code",
   "execution_count": 25,
   "metadata": {},
   "outputs": [],
   "source": [
    "def even_read(filename):\n",
    "    with open(filename, \"r\") as input:\n",
    "        lines_list = input.readlines()\n",
    "        even_index = range(1, len(lines_list), 2)\n",
    "        #this actually produces odd numbers, but since we're labeling the file lines starting with 1, we need odd indexes to correspond to even lines\n",
    "        output_lines = []\n",
    "        for index in even_index:\n",
    "            if lines_list[index][-1:] == \"\\n\": \n",
    "                output_lines.append(lines_list[index][0:-1])\n",
    "                #the readlines() outputs lines with \\n at the end, this strips them if they're present\n",
    "            else:\n",
    "                output_lines.append(lines_list[index])\n",
    "            #append the entry in lines list\n",
    "        return output_lines"
   ]
  },
  {
   "cell_type": "code",
   "execution_count": 26,
   "metadata": {},
   "outputs": [
    {
     "data": {
      "text/plain": [
       "['Yes, brave Sir Robin turned about',\n",
       " 'And gallantly he chickened out',\n",
       " 'Bravely talking to his feet',\n",
       " 'He beat a very brave retreat']"
      ]
     },
     "execution_count": 26,
     "metadata": {},
     "output_type": "execute_result"
    }
   ],
   "source": [
    "even_read(\"even_line_test\")"
   ]
  },
  {
   "cell_type": "code",
   "execution_count": 29,
   "metadata": {},
   "outputs": [
    {
     "data": {
      "text/plain": [
       "['Some things in life are bad, they can really make you mad',\n",
       " 'Other things just make you swear and curse',\n",
       " \"When you're chewing on life's gristle, don't grumble give a whistle\",\n",
       " 'This will help things turn out for the best',\n",
       " 'Always look on the bright side of life',\n",
       " 'Always look on the right side of life',\n",
       " \"If life seems jolly rotten, there's something you've forgotten\",\n",
       " \"And that's to laugh and smile and dance and sing\",\n",
       " \"When you're feeling in the dumps, don't be silly, chumps\",\n",
       " \"Just purse your lips and whistle, that's the thing\",\n",
       " 'So, always look on the bright side of death',\n",
       " 'Just before you draw your terminal breath',\n",
       " \"Life's a counterfeit and when you look at it\",\n",
       " \"Life's a laugh and death's the joke, it's true\",\n",
       " \"You see, it's all a show, keep them laughing as you go\",\n",
       " 'Just remember the last laugh is on you',\n",
       " 'Always look on the bright side of life',\n",
       " 'And always look on the right side of life',\n",
       " 'Always look on the bright side of life',\n",
       " 'And always look on the right side of life']"
      ]
     },
     "execution_count": 29,
     "metadata": {},
     "output_type": "execute_result"
    }
   ],
   "source": [
    "even_read(\"q5_input.txt\")"
   ]
  },
  {
   "cell_type": "code",
   "execution_count": 21,
   "metadata": {},
   "outputs": [
    {
     "data": {
      "text/plain": [
       "'\\n'"
      ]
     },
     "execution_count": 21,
     "metadata": {},
     "output_type": "execute_result"
    }
   ],
   "source": []
  }
 ],
 "metadata": {
  "kernelspec": {
   "display_name": "Python 3",
   "language": "python",
   "name": "python3"
  },
  "language_info": {
   "codemirror_mode": {
    "name": "ipython",
    "version": 3
   },
   "file_extension": ".py",
   "mimetype": "text/x-python",
   "name": "python",
   "nbconvert_exporter": "python",
   "pygments_lexer": "ipython3",
   "version": "3.6.5"
  }
 },
 "nbformat": 4,
 "nbformat_minor": 2
}
