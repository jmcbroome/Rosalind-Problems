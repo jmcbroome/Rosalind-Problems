{
 "cells": [
  {
   "cell_type": "code",
   "execution_count": 25,
   "metadata": {},
   "outputs": [],
   "source": [
    "#roughly, this code will take an input string, slice it into a list of strings using spaces as separators, count the number of occurences of each word in the list, then generate a dictionary associating unique words and their count number\n",
    "#going to make a class and call methods sequentially\n",
    "class wordCounter:\n",
    "    def __init__(self, string):\n",
    "        self.list = string.split(\" \")\n",
    "        self.word_dict = {}\n",
    "    def unique_words(self):\n",
    "        return set(self.list)\n",
    "    def create_count_dict(self):\n",
    "        self.word_dict = dict.fromkeys(self.unique_words())\n",
    "        for word in self.unique_words():\n",
    "            self.word_dict[word] = self.list.count(word)"
   ]
  },
  {
   "cell_type": "code",
   "execution_count": 30,
   "metadata": {},
   "outputs": [
    {
     "name": "stdout",
     "output_type": "stream",
     "text": [
      "{'tried': 3, 'and': 1, 'We': 1, 'list': 1, 'Zen': 1, 'dicts': 1, 'also': 1, 'we': 2}\n",
      "tried 3\n",
      "and 1\n",
      "We 1\n",
      "list 1\n",
      "Zen 1\n",
      "dicts 1\n",
      "also 1\n",
      "we 2\n"
     ]
    }
   ],
   "source": [
    "output = wordCounter(\"We tried list and we tried dicts also we tried Zen\")\n",
    "output.create_count_dict()\n",
    "print(output.word_dict)\n",
    "for key, value in output.word_dict.items():\n",
    "    print(key, end = ' ')\n",
    "    print(value)"
   ]
  },
  {
   "cell_type": "code",
   "execution_count": 31,
   "metadata": {},
   "outputs": [
    {
     "name": "stdout",
     "output_type": "stream",
     "text": [
      "right 1\n",
      "to 3\n",
      "wake 1\n",
      "Let 6\n",
      "me 4\n",
      "an 4\n",
      "sound 1\n",
      "she 1\n",
      "it 36\n",
      "world 1\n",
      "in 4\n",
      "parted 1\n",
      "a 2\n",
      "tomorrow 1\n",
      "comes 2\n",
      "standing 1\n",
      "wisdom 7\n",
      "chance 1\n",
      "light 1\n",
      "until 1\n",
      "night 1\n",
      "darkness 1\n",
      "still 2\n",
      "yeah 2\n",
      "though 1\n",
      "Shine 1\n",
      "living 1\n",
      "when 2\n",
      "up 1\n",
      "find 1\n",
      "I 2\n",
      "Mary 2\n",
      "of 11\n",
      "Whisper 4\n",
      "broken 1\n",
      "will 5\n",
      "times 1\n",
      "may 1\n",
      "hour 1\n",
      "And 3\n",
      "that 2\n",
      "trouble 1\n",
      "they 2\n",
      "people 1\n",
      "music 1\n",
      "the 4\n",
      "hearted 1\n",
      "When 1\n",
      "let 30\n",
      "my 1\n",
      "see 1\n",
      "cloudy 1\n",
      "There 4\n",
      "myself 1\n",
      "is 4\n",
      "words 7\n",
      "agree 1\n",
      "answer 4\n",
      "there 2\n",
      "shines 1\n",
      "on 1\n",
      "Speaking 3\n",
      "be 41\n",
      "For 1\n",
      "Mother 2\n",
      "front 1\n"
     ]
    }
   ],
   "source": [
    "output = wordCounter(\"When I find myself in times of trouble Mother Mary comes to me Speaking words of wisdom let it be And in my hour of darkness she is standing right in front of me Speaking words of wisdom let it be Let it be let it be let it be let it be Whisper words of wisdom let it be And when the broken hearted people living in the world agree There will be an answer let it be For though they may be parted there is still a chance that they will see There will be an answer let it be Let it be let it be let it be let it be There will be an answer let it be Let it be let it be let it be let it be Whisper words of wisdom let it be Let it be let it be let it be let it be Whisper words of wisdom let it be And when the night is cloudy there is still a light that shines on me Shine until tomorrow let it be I wake up to the sound of music Mother Mary comes to me Speaking words of wisdom let it be Let it be let it be let it be yeah let it be There will be an answer let it be Let it be let it be let it be yeah let it be Whisper words of wisdom let it be\")\n",
    "output.create_count_dict()\n",
    "for key, value in output.word_dict.items():\n",
    "    print(key, end = ' ')\n",
    "    print(value)"
   ]
  },
  {
   "cell_type": "code",
   "execution_count": null,
   "metadata": {},
   "outputs": [],
   "source": []
  }
 ],
 "metadata": {
  "kernelspec": {
   "display_name": "Python 3",
   "language": "python",
   "name": "python3"
  },
  "language_info": {
   "codemirror_mode": {
    "name": "ipython",
    "version": 3
   },
   "file_extension": ".py",
   "mimetype": "text/x-python",
   "name": "python",
   "nbconvert_exporter": "python",
   "pygments_lexer": "ipython3",
   "version": "3.6.5"
  }
 },
 "nbformat": 4,
 "nbformat_minor": 2
}
