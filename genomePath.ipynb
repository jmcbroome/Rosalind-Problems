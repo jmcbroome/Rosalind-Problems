{
 "cells": [
  {
   "cell_type": "code",
   "execution_count": 30,
   "metadata": {},
   "outputs": [],
   "source": [
    "class genomePath:\n",
    "    def __init__(self, *input_strings):\n",
    "        self.kmer_full = [input_strings]\n",
    "        self.kmer_len = len(input_strings[0])\n",
    "        #this line makes the assumption that all input strings are the same length\n",
    "        self.alignment_list = [input_strings[0]]\n",
    "        #the first kmer starts off the sequence generation\n",
    "        #this list will remain as a class property after being created added to with align_kmer in this version\n",
    "        #this list is not the same thing as the output of align_kmer though- would need to ''.join(self.alignment_list) to retrieve the result without reusing the method.\n",
    "    def align_kmer(self):\n",
    "        g = 0\n",
    "        output = self.kmer_full[0]\n",
    "        for kmer in self.kmer_full:\n",
    "            for i in range(0, self.kmer_len):\n",
    "            #checks alignment of index i for each base in the kmer being added\n",
    "                while g<self.kmer_len:\n",
    "                    #if the gap is greater than or equal to the whole kmer, it doesn't align at all here and the whole thing will be added\n",
    "                    if output[-i+g] != kmer[i]:\n",
    "                        g+= 1\n",
    "                    else:\n",
    "                        break\n",
    "                    #breaks if the current point being checked on the kmer i matches the opposing index adding the gap distance\n",
    "                if g!=0:\n",
    "                    self.alignment_list.append(kmer[-g:])\n",
    "                #if there is no gap (broke on the first time through the if statement) then it adds nothing\n",
    "        return ''.join(self.alignment_list)\n",
    "            "
   ]
  },
  {
   "cell_type": "code",
   "execution_count": 31,
   "metadata": {},
   "outputs": [],
   "source": [
    "def main(file_path):\n",
    "    with open(file_path) as file:\n",
    "        line_list = []\n",
    "        lines = file.readlines()\n",
    "        for line in lines:\n",
    "            if line[-2:] == \"\\n\":\n",
    "                line_strip = line[:-2]\n",
    "                #get rid of the \\n readlines() adds to lines\n",
    "            else:\n",
    "                line_strip = line\n",
    "            for base in list(line_strip):\n",
    "                if base.upper()==\"A\" or base.upper()==\"C\" or base.upper()==\"G\" or base.upper()==\"T\":\n",
    "                #checking that the line only contains valid bases before adding it to the list \n",
    "                    line_list.append(line_strip)\n",
    "        path = genomePath(line_list)\n",
    "        print(path.align_kmer())"
   ]
  },
  {
   "cell_type": "code",
   "execution_count": 32,
   "metadata": {},
   "outputs": [
    {
     "ename": "IndexError",
     "evalue": "tuple index out of range",
     "output_type": "error",
     "traceback": [
      "\u001b[1;31m---------------------------------------------------------------------------\u001b[0m",
      "\u001b[1;31mIndexError\u001b[0m                                Traceback (most recent call last)",
      "\u001b[1;32m<ipython-input-32-dc5fb3e6c4e9>\u001b[0m in \u001b[0;36m<module>\u001b[1;34m()\u001b[0m\n\u001b[1;32m----> 1\u001b[1;33m \u001b[0mmain\u001b[0m\u001b[1;33m(\u001b[0m\u001b[1;34m\"GenomePathString.txt\"\u001b[0m\u001b[1;33m)\u001b[0m\u001b[1;33m\u001b[0m\u001b[0m\n\u001b[0m",
      "\u001b[1;32m<ipython-input-31-bfc079d124a9>\u001b[0m in \u001b[0;36mmain\u001b[1;34m(file_path)\u001b[0m\n\u001b[0;32m     14\u001b[0m                     \u001b[0mline_list\u001b[0m\u001b[1;33m.\u001b[0m\u001b[0mappend\u001b[0m\u001b[1;33m(\u001b[0m\u001b[0mline_strip\u001b[0m\u001b[1;33m)\u001b[0m\u001b[1;33m\u001b[0m\u001b[0m\n\u001b[0;32m     15\u001b[0m         \u001b[0mpath\u001b[0m \u001b[1;33m=\u001b[0m \u001b[0mgenomePath\u001b[0m\u001b[1;33m(\u001b[0m\u001b[0mline_list\u001b[0m\u001b[1;33m)\u001b[0m\u001b[1;33m\u001b[0m\u001b[0m\n\u001b[1;32m---> 16\u001b[1;33m         \u001b[0mprint\u001b[0m\u001b[1;33m(\u001b[0m\u001b[0mpath\u001b[0m\u001b[1;33m.\u001b[0m\u001b[0malign_kmer\u001b[0m\u001b[1;33m(\u001b[0m\u001b[1;33m)\u001b[0m\u001b[1;33m)\u001b[0m\u001b[1;33m\u001b[0m\u001b[0m\n\u001b[0m",
      "\u001b[1;32m<ipython-input-30-f064d3b1ae01>\u001b[0m in \u001b[0;36malign_kmer\u001b[1;34m(self)\u001b[0m\n\u001b[0;32m     16\u001b[0m                 \u001b[1;32mwhile\u001b[0m \u001b[0mg\u001b[0m\u001b[1;33m<\u001b[0m\u001b[0mself\u001b[0m\u001b[1;33m.\u001b[0m\u001b[0mkmer_len\u001b[0m\u001b[1;33m:\u001b[0m\u001b[1;33m\u001b[0m\u001b[0m\n\u001b[0;32m     17\u001b[0m                     \u001b[1;31m#if the gap is greater than or equal to the whole kmer, it doesn't align at all here and the whole thing will be added\u001b[0m\u001b[1;33m\u001b[0m\u001b[1;33m\u001b[0m\u001b[0m\n\u001b[1;32m---> 18\u001b[1;33m                     \u001b[1;32mif\u001b[0m \u001b[0moutput\u001b[0m\u001b[1;33m[\u001b[0m\u001b[1;33m-\u001b[0m\u001b[0mi\u001b[0m\u001b[1;33m+\u001b[0m\u001b[0mg\u001b[0m\u001b[1;33m]\u001b[0m \u001b[1;33m!=\u001b[0m \u001b[0mkmer\u001b[0m\u001b[1;33m[\u001b[0m\u001b[0mi\u001b[0m\u001b[1;33m]\u001b[0m\u001b[1;33m:\u001b[0m\u001b[1;33m\u001b[0m\u001b[0m\n\u001b[0m\u001b[0;32m     19\u001b[0m                         \u001b[0mg\u001b[0m\u001b[1;33m+=\u001b[0m \u001b[1;36m1\u001b[0m\u001b[1;33m\u001b[0m\u001b[0m\n\u001b[0;32m     20\u001b[0m                     \u001b[1;32melse\u001b[0m\u001b[1;33m:\u001b[0m\u001b[1;33m\u001b[0m\u001b[0m\n",
      "\u001b[1;31mIndexError\u001b[0m: tuple index out of range"
     ]
    }
   ],
   "source": [
    "main(\"GenomePathString.txt\")"
   ]
  },
  {
   "cell_type": "code",
   "execution_count": null,
   "metadata": {},
   "outputs": [],
   "source": []
  }
 ],
 "metadata": {
  "kernelspec": {
   "display_name": "Python 3",
   "language": "python",
   "name": "python3"
  },
  "language_info": {
   "codemirror_mode": {
    "name": "ipython",
    "version": 3
   },
   "file_extension": ".py",
   "mimetype": "text/x-python",
   "name": "python",
   "nbconvert_exporter": "python",
   "pygments_lexer": "ipython3",
   "version": "3.6.5"
  }
 },
 "nbformat": 4,
 "nbformat_minor": 2
}
